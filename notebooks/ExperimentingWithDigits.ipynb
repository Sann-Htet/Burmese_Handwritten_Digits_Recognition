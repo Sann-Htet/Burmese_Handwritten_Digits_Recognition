{
  "cells": [
    {
      "cell_type": "markdown",
      "id": "b791e94b",
      "metadata": {
        "id": "b791e94b"
      },
      "source": [
        "# Exploratory data analysis"
      ]
    },
    {
      "cell_type": "code",
      "source": [
        "from google.colab import drive\n",
        "drive.mount('/content/drive')"
      ],
      "metadata": {
        "colab": {
          "base_uri": "https://localhost:8080/"
        },
        "id": "QDsJ7o84WZqf",
        "outputId": "84cb1950-927f-436e-e82b-4a03cc182178"
      },
      "id": "QDsJ7o84WZqf",
      "execution_count": 1,
      "outputs": [
        {
          "output_type": "stream",
          "name": "stdout",
          "text": [
            "Mounted at /content/drive\n"
          ]
        }
      ]
    },
    {
      "cell_type": "code",
      "execution_count": 2,
      "id": "5fcc1a81",
      "metadata": {
        "colab": {
          "base_uri": "https://localhost:8080/"
        },
        "id": "5fcc1a81",
        "outputId": "5ddef264-2423-4f2b-cc2e-f01f19e63c4e"
      },
      "outputs": [
        {
          "output_type": "stream",
          "name": "stdout",
          "text": [
            "Train Size: 60000 Test Size: 27561\n"
          ]
        }
      ],
      "source": [
        "# Loading the data\n",
        "import pickle\n",
        "import numpy as np\n",
        "\n",
        "local_filename = '/content/drive/MyDrive/data.pkl'\n",
        "dataset = []\n",
        "\n",
        "with open(local_filename, \"rb\") as file:\n",
        "    # Deserializing which is a transforming serialized data back into its original format\n",
        "    dataset = pickle.load(file)\n",
        "\n",
        "trainDataset = dataset[\"trainDataset\"]\n",
        "testDataset = dataset[\"testDataset\"]\n",
        "\n",
        "print(\"Train Size: {} Test Size: {}\".format(len(trainDataset), len(testDataset)))"
      ]
    },
    {
      "cell_type": "code",
      "execution_count": 3,
      "id": "d8ce47c8",
      "metadata": {
        "id": "d8ce47c8"
      },
      "outputs": [],
      "source": [
        "import numpy as np\n",
        "\n",
        "X_train = np.array([td[\"image\"] for td in trainDataset])\n",
        "y_train = np.array([td[\"label\"] for td in trainDataset])\n",
        "X_test = np.array([td[\"image\"] for td in testDataset])\n",
        "y_test = np.array([td[\"label\"] for td in testDataset])"
      ]
    },
    {
      "cell_type": "markdown",
      "id": "13447a6e",
      "metadata": {
        "id": "13447a6e"
      },
      "source": [
        "## Visualizing Dataset"
      ]
    },
    {
      "cell_type": "code",
      "execution_count": 4,
      "id": "c989d0a3",
      "metadata": {
        "id": "c989d0a3"
      },
      "outputs": [],
      "source": [
        "import matplotlib.pyplot as plt"
      ]
    },
    {
      "cell_type": "code",
      "execution_count": 5,
      "id": "88448a1c",
      "metadata": {
        "id": "88448a1c"
      },
      "outputs": [],
      "source": [
        "def show_images(x, y, title_str='Label'):\n",
        "    for c in range(1, 10):\n",
        "        plt.subplot(3, 3, c)\n",
        "        i = np.random.randint(len(x)) # Generate random integer number\n",
        "        im = x[i] # get i-th image\n",
        "        plt.axis(\"off\")\n",
        "        label = y[i] # get i-th label\n",
        "        plt.title(\"{} = {}\".format(title_str, label))\n",
        "        plt.imshow(im, cmap='Greys')"
      ]
    },
    {
      "cell_type": "code",
      "execution_count": 6,
      "id": "8758b47e",
      "metadata": {
        "scrolled": false,
        "colab": {
          "base_uri": "https://localhost:8080/",
          "height": 428
        },
        "id": "8758b47e",
        "outputId": "2c8c0a17-af47-4bd8-9a60-4d6b7917eeff"
      },
      "outputs": [
        {
          "output_type": "display_data",
          "data": {
            "text/plain": [
              "<Figure size 640x480 with 9 Axes>"
            ],
            "image/png": "[encoded data removed]"
          },
          "metadata": {}
        }
      ],
      "source": [
        "# Visualzing training set\n",
        "show_images(X_train, y_train, title_str='Label')"
      ]
    },
    {
      "cell_type": "code",
      "execution_count": 7,
      "id": "cf460c0f",
      "metadata": {
        "colab": {
          "base_uri": "https://localhost:8080/",
          "height": 428
        },
        "id": "cf460c0f",
        "outputId": "3dbb60b1-584f-4d38-e052-d710aefca340"
      },
      "outputs": [
        {
          "output_type": "display_data",
          "data": {
            "text/plain": [
              "<Figure size 640x480 with 9 Axes>"
            ],
            "image/png": "[encoded data removed]"
          },
          "metadata": {}
        }
      ],
      "source": [
        "# Visualzing test set\n",
        "show_images(X_test, y_test, title_str='Label')"
      ]
    },
    {
      "cell_type": "markdown",
      "id": "9ab992ca",
      "metadata": {
        "id": "9ab992ca"
      },
      "source": [
        "## Data Preprocessing"
      ]
    },
    {
      "cell_type": "code",
      "execution_count": 8,
      "id": "f4d6c414",
      "metadata": {
        "colab": {
          "base_uri": "https://localhost:8080/"
        },
        "id": "f4d6c414",
        "outputId": "8abf05b0-70f8-427b-cfde-545ce6029e8b"
      },
      "outputs": [
        {
          "output_type": "stream",
          "name": "stdout",
          "text": [
            "X_train shape: (60000, 28, 28)\n",
            "y_train shape: (60000,)\n",
            "X_test shape: (27561, 28, 28)\n",
            "y_test shape: (27561,)\n"
          ]
        }
      ],
      "source": [
        "print(f\"X_train shape: {X_train.shape}\\ny_train shape: {y_train.shape}\")\n",
        "print(f\"X_test shape: {X_test.shape}\\ny_test shape: {y_test.shape}\")"
      ]
    },
    {
      "cell_type": "code",
      "execution_count": 9,
      "id": "bd72b443",
      "metadata": {
        "colab": {
          "base_uri": "https://localhost:8080/"
        },
        "id": "bd72b443",
        "outputId": "097ed6b7-0787-4215-ff50-6fb5d554be20"
      },
      "outputs": [
        {
          "output_type": "stream",
          "name": "stdout",
          "text": [
            "Number of classes: 10\n",
            "Unique Labels: [0 1 2 3 4 5 6 7 8 9]\n"
          ]
        }
      ],
      "source": [
        "# Labels\n",
        "label = np.unique(y_train)\n",
        "num_classes = len(label)\n",
        "print(\"Number of classes:\", num_classes)\n",
        "print(\"Unique Labels:\", label)"
      ]
    },
    {
      "cell_type": "code",
      "execution_count": 10,
      "id": "b45d2dd7",
      "metadata": {
        "id": "b45d2dd7"
      },
      "outputs": [],
      "source": [
        "# Reshape images\n",
        "X_train = X_train.astype(np.float32).reshape(len(X_train), 28, 28, 1)\n",
        "y_train = y_train.reshape(len(y_train), 1)\n",
        "X_test = X_test.astype(np.float32).reshape(len(X_test), 28, 28, 1)\n",
        "y_test = y_test.reshape(len(y_test), 1)"
      ]
    },
    {
      "cell_type": "code",
      "execution_count": 11,
      "id": "b32a910b",
      "metadata": {
        "colab": {
          "base_uri": "https://localhost:8080/"
        },
        "id": "b32a910b",
        "outputId": "273979b8-f074-46d6-86b1-0a501ed7134f"
      },
      "outputs": [
        {
          "output_type": "stream",
          "name": "stdout",
          "text": [
            "X_train shape: (60000, 28, 28, 1)\n",
            "y_train shape: (60000, 1)\n",
            "X_test shape: (27561, 28, 28, 1)\n",
            "y_test shape: (27561, 1)\n"
          ]
        }
      ],
      "source": [
        "print(f\"X_train shape: {X_train.shape}\\ny_train shape: {y_train.shape}\")\n",
        "print(f\"X_test shape: {X_test.shape}\\ny_test shape: {y_test.shape}\")"
      ]
    },
    {
      "cell_type": "code",
      "execution_count": 12,
      "id": "8b180b32",
      "metadata": {
        "id": "8b180b32"
      },
      "outputs": [],
      "source": [
        "# Split into training, validation, and test sets\n",
        "from sklearn.model_selection import train_test_split\n",
        "\n",
        "X_train, X_val, y_train, y_val = train_test_split(X_train, y_train, test_size=0.2, random_state=42)"
      ]
    },
    {
      "cell_type": "markdown",
      "id": "354b2364",
      "metadata": {
        "id": "354b2364"
      },
      "source": [
        "**Note:** I created a custom preprocessing layer which can encapsulate our preprocessing logic and become part of the model. When we save the model, these custom preprocessing layers will be included."
      ]
    },
    {
      "cell_type": "code",
      "execution_count": 13,
      "id": "11191165",
      "metadata": {
        "id": "11191165"
      },
      "outputs": [],
      "source": [
        "import tensorflow as tf\n",
        "from tensorflow.keras.layers import Layer\n",
        "\n",
        "# Custom preprocessing layer with Normalization\n",
        "class CustomPreprocessNormalizationLayer(tf.keras.layers.Layer):\n",
        "    def __init__(self):\n",
        "        super(CustomPreprocessNormalizationLayer, self).__init__()\n",
        "\n",
        "    def call(self, inputs):\n",
        "        # Normalize pixel values to [0, 1]\n",
        "        normalized_images = inputs / 255.0\n",
        "\n",
        "        return normalized_images"
      ]
    },
    {
      "cell_type": "code",
      "execution_count": 14,
      "id": "b018696c",
      "metadata": {
        "id": "b018696c"
      },
      "outputs": [],
      "source": [
        "# Custom preprocessing layer with Standardization\n",
        "class CustomPreprocessStandardizationLayer(tf.keras.layers.Layer):\n",
        "    def __init__(self):\n",
        "        super(CustomPreprocessStandardizationLayer, self).__init__()\n",
        "\n",
        "    def call(self, inputs):\n",
        "        # Standardize pixel values into mean=0 and std=1\n",
        "        standardized_images = (inputs - tf.math.reduce_mean(inputs)) / tf.math.reduce_std(inputs)\n",
        "\n",
        "        return standardized_images"
      ]
    },
    {
      "cell_type": "markdown",
      "id": "8b19e0a0",
      "metadata": {
        "id": "8b19e0a0"
      },
      "source": [
        "# Building the model"
      ]
    },
    {
      "cell_type": "code",
      "execution_count": 15,
      "id": "7fd7e5f4",
      "metadata": {
        "id": "7fd7e5f4"
      },
      "outputs": [],
      "source": [
        "from tensorflow.keras.layers import Conv2D, MaxPooling2D, Flatten, Dense, Dropout\n",
        "from tensorflow.keras.models import Sequential"
      ]
    },
    {
      "cell_type": "code",
      "execution_count": 16,
      "id": "3ecd5ee1",
      "metadata": {
        "id": "3ecd5ee1"
      },
      "outputs": [],
      "source": [
        "def create_model():\n",
        "    # Create a Sequential model\n",
        "    model = Sequential()\n",
        "\n",
        "    # Add the CustomPreprocessNormalizationLayer as the first layer\n",
        "    model.add(CustomPreprocessNormalizationLayer())\n",
        "\n",
        "    ### Add Convolutional and MaxPooling layers\n",
        "\n",
        "    # CONV => RELU => MAX-POOLING\n",
        "    model.add(Conv2D(32, (3, 3), activation='relu', input_shape=(28, 28, 1)))\n",
        "    model.add(MaxPooling2D((2, 2)))\n",
        "\n",
        "    # CONV => RELU => MAX-POOLING => CONV\n",
        "    model.add(Conv2D(64, (3, 3), activation='relu'))\n",
        "    model.add(MaxPooling2D((2, 2)))\n",
        "    model.add(Conv2D(64, (3, 3), activation='relu'))\n",
        "\n",
        "    # Flatten the output for Dense layers\n",
        "    model.add(Flatten())\n",
        "\n",
        "    # Add Dense layers\n",
        "    model.add(Dense(64, activation='relu'))\n",
        "    model.add(Dropout(0.5))  # Dropout layer with a dropout rate of 0.5\n",
        "\n",
        "    model.add(Dense(num_classes, activation='softmax'))\n",
        "\n",
        "    return model"
      ]
    },
    {
      "cell_type": "code",
      "execution_count": 17,
      "id": "fcef959f",
      "metadata": {
        "id": "fcef959f"
      },
      "outputs": [],
      "source": [
        "model = create_model()"
      ]
    },
    {
      "cell_type": "code",
      "execution_count": 18,
      "id": "9569d62f",
      "metadata": {
        "id": "9569d62f"
      },
      "outputs": [],
      "source": [
        "# Configures the model for training\n",
        "model.compile(optimizer='adam', loss='sparse_categorical_crossentropy', metrics=['accuracy'])"
      ]
    },
    {
      "cell_type": "code",
      "source": [
        "# use TensorBoard, princess Aurora!\n",
        "callbacks = [\n",
        "  # Write TensorBoard logs to `./logs` directory\n",
        "  tf.keras.callbacks.TensorBoard(log_dir='./logs')\n",
        "]"
      ],
      "metadata": {
        "id": "zlq2SWmvVnr6"
      },
      "id": "zlq2SWmvVnr6",
      "execution_count": 19,
      "outputs": []
    },
    {
      "cell_type": "code",
      "execution_count": 20,
      "id": "9652d6fb",
      "metadata": {
        "colab": {
          "base_uri": "https://localhost:8080/"
        },
        "id": "9652d6fb",
        "outputId": "d559cd48-e8a9-4f9e-f900-3d57b053fabe"
      },
      "outputs": [
        {
          "output_type": "stream",
          "name": "stdout",
          "text": [
            "Epoch 1/20\n",
            "375/375 [==============================] - 15s 6ms/step - loss: 0.3291 - accuracy: 0.9010 - val_loss: 0.0418 - val_accuracy: 0.9877\n",
            "Epoch 2/20\n",
            "375/375 [==============================] - 2s 5ms/step - loss: 0.0624 - accuracy: 0.9829 - val_loss: 0.0303 - val_accuracy: 0.9916\n",
            "Epoch 3/20\n",
            "375/375 [==============================] - 2s 7ms/step - loss: 0.0391 - accuracy: 0.9889 - val_loss: 0.0207 - val_accuracy: 0.9942\n",
            "Epoch 4/20\n",
            "375/375 [==============================] - 2s 6ms/step - loss: 0.0320 - accuracy: 0.9921 - val_loss: 0.0208 - val_accuracy: 0.9943\n",
            "Epoch 5/20\n",
            "375/375 [==============================] - 2s 5ms/step - loss: 0.0259 - accuracy: 0.9931 - val_loss: 0.0195 - val_accuracy: 0.9952\n",
            "Epoch 6/20\n",
            "375/375 [==============================] - 2s 5ms/step - loss: 0.0204 - accuracy: 0.9946 - val_loss: 0.0186 - val_accuracy: 0.9961\n",
            "Epoch 7/20\n",
            "375/375 [==============================] - 3s 8ms/step - loss: 0.0191 - accuracy: 0.9948 - val_loss: 0.0233 - val_accuracy: 0.9953\n",
            "Epoch 8/20\n",
            "375/375 [==============================] - 2s 6ms/step - loss: 0.0175 - accuracy: 0.9953 - val_loss: 0.0193 - val_accuracy: 0.9952\n",
            "Epoch 9/20\n",
            "375/375 [==============================] - 3s 7ms/step - loss: 0.0146 - accuracy: 0.9959 - val_loss: 0.0159 - val_accuracy: 0.9965\n",
            "Epoch 10/20\n",
            "375/375 [==============================] - 2s 6ms/step - loss: 0.0137 - accuracy: 0.9962 - val_loss: 0.0188 - val_accuracy: 0.9962\n",
            "Epoch 11/20\n",
            "375/375 [==============================] - 2s 5ms/step - loss: 0.0117 - accuracy: 0.9967 - val_loss: 0.0207 - val_accuracy: 0.9951\n",
            "Epoch 12/20\n",
            "375/375 [==============================] - 2s 5ms/step - loss: 0.0106 - accuracy: 0.9971 - val_loss: 0.0177 - val_accuracy: 0.9963\n",
            "Epoch 13/20\n",
            "375/375 [==============================] - 2s 5ms/step - loss: 0.0097 - accuracy: 0.9973 - val_loss: 0.0171 - val_accuracy: 0.9966\n",
            "Epoch 14/20\n",
            "375/375 [==============================] - 2s 5ms/step - loss: 0.0104 - accuracy: 0.9972 - val_loss: 0.0168 - val_accuracy: 0.9963\n",
            "Epoch 15/20\n",
            "375/375 [==============================] - 2s 5ms/step - loss: 0.0098 - accuracy: 0.9970 - val_loss: 0.0182 - val_accuracy: 0.9959\n",
            "Epoch 16/20\n",
            "375/375 [==============================] - 3s 7ms/step - loss: 0.0078 - accuracy: 0.9979 - val_loss: 0.0186 - val_accuracy: 0.9962\n",
            "Epoch 17/20\n",
            "375/375 [==============================] - 2s 6ms/step - loss: 0.0074 - accuracy: 0.9978 - val_loss: 0.0169 - val_accuracy: 0.9967\n",
            "Epoch 18/20\n",
            "375/375 [==============================] - 2s 5ms/step - loss: 0.0068 - accuracy: 0.9980 - val_loss: 0.0207 - val_accuracy: 0.9965\n",
            "Epoch 19/20\n",
            "375/375 [==============================] - 2s 5ms/step - loss: 0.0057 - accuracy: 0.9984 - val_loss: 0.0188 - val_accuracy: 0.9967\n",
            "Epoch 20/20\n",
            "375/375 [==============================] - 2s 5ms/step - loss: 0.0071 - accuracy: 0.9979 - val_loss: 0.0211 - val_accuracy: 0.9961\n"
          ]
        }
      ],
      "source": [
        "# Train the model\n",
        "epoch = 20\n",
        "history = model.fit(X_train, y_train,\n",
        "                    epochs=epoch,\n",
        "                    batch_size=128,\n",
        "                    validation_data=(X_val, y_val),\n",
        "                    callbacks=callbacks)"
      ]
    },
    {
      "cell_type": "code",
      "execution_count": 21,
      "id": "9c5cc969",
      "metadata": {
        "colab": {
          "base_uri": "https://localhost:8080/"
        },
        "id": "9c5cc969",
        "outputId": "4edd624e-4fa0-4a2a-dc07-57289b595391"
      },
      "outputs": [
        {
          "output_type": "stream",
          "name": "stdout",
          "text": [
            "Model: \"sequential\"\n",
            "_________________________________________________________________\n",
            " Layer (type)                Output Shape              Param #   \n",
            "=================================================================\n",
            " custom_preprocess_normaliza  (None, 28, 28, 1)        0         \n",
            " tion_layer (CustomPreproces                                     \n",
            " sNormalizationLayer)                                            \n",
            "                                                                 \n",
            " conv2d (Conv2D)             (None, 26, 26, 32)        320       \n",
            "                                                                 \n",
            " max_pooling2d (MaxPooling2D  (None, 13, 13, 32)       0         \n",
            " )                                                               \n",
            "                                                                 \n",
            " conv2d_1 (Conv2D)           (None, 11, 11, 64)        18496     \n",
            "                                                                 \n",
            " max_pooling2d_1 (MaxPooling  (None, 5, 5, 64)         0         \n",
            " 2D)                                                             \n",
            "                                                                 \n",
            " conv2d_2 (Conv2D)           (None, 3, 3, 64)          36928     \n",
            "                                                                 \n",
            " flatten (Flatten)           (None, 576)               0         \n",
            "                                                                 \n",
            " dense (Dense)               (None, 64)                36928     \n",
            "                                                                 \n",
            " dropout (Dropout)           (None, 64)                0         \n",
            "                                                                 \n",
            " dense_1 (Dense)             (None, 10)                650       \n",
            "                                                                 \n",
            "=================================================================\n",
            "Total params: 93,322\n",
            "Trainable params: 93,322\n",
            "Non-trainable params: 0\n",
            "_________________________________________________________________\n"
          ]
        }
      ],
      "source": [
        "# Print the model summary\n",
        "model.summary()"
      ]
    },
    {
      "cell_type": "code",
      "execution_count": 22,
      "id": "cf05bda2",
      "metadata": {
        "colab": {
          "base_uri": "https://localhost:8080/"
        },
        "id": "cf05bda2",
        "outputId": "e84ef7b1-5852-4dca-add6-4a41699f6395"
      },
      "outputs": [
        {
          "output_type": "stream",
          "name": "stdout",
          "text": [
            "dict_keys(['loss', 'accuracy', 'val_loss', 'val_accuracy'])\n"
          ]
        }
      ],
      "source": [
        "print(history.history.keys())"
      ]
    },
    {
      "cell_type": "code",
      "execution_count": 23,
      "id": "f9447bcb",
      "metadata": {
        "colab": {
          "base_uri": "https://localhost:8080/"
        },
        "id": "f9447bcb",
        "outputId": "d0661d2c-8261-46de-d4bd-baa1763e2c30"
      },
      "outputs": [
        {
          "output_type": "stream",
          "name": "stdout",
          "text": [
            "862/862 [==============================] - 3s 3ms/step - loss: 0.0164 - accuracy: 0.9976\n",
            "Test accuracy: 99.76%\n"
          ]
        }
      ],
      "source": [
        "test_loss, test_acc = model.evaluate(X_test, y_test)\n",
        "\n",
        "print('Test accuracy: {:2.2f}%'.format(test_acc*100))"
      ]
    },
    {
      "cell_type": "code",
      "execution_count": 24,
      "id": "332a520c",
      "metadata": {
        "colab": {
          "base_uri": "https://localhost:8080/"
        },
        "id": "332a520c",
        "outputId": "3153e64f-fea3-4580-c10e-c2a63aa7fefc"
      },
      "outputs": [
        {
          "output_type": "stream",
          "name": "stdout",
          "text": [
            "862/862 [==============================] - 2s 2ms/step\n"
          ]
        }
      ],
      "source": [
        "predictions = model.predict(X_test) # Make predictions towards the test set"
      ]
    },
    {
      "cell_type": "code",
      "execution_count": 25,
      "id": "7f12eab6",
      "metadata": {
        "colab": {
          "base_uri": "https://localhost:8080/"
        },
        "id": "7f12eab6",
        "outputId": "ffe209ec-da71-4134-d970-47e7caa7b9c2"
      },
      "outputs": [
        {
          "output_type": "execute_result",
          "data": {
            "text/plain": [
              "(5, array([5], dtype=uint8))"
            ]
          },
          "metadata": {},
          "execution_count": 25
        }
      ],
      "source": [
        "np.argmax(predictions[1]), y_test[1] # If two are the same, got it right"
      ]
    },
    {
      "cell_type": "code",
      "execution_count": 26,
      "id": "e68e2001",
      "metadata": {
        "id": "e68e2001"
      },
      "outputs": [],
      "source": [
        "y_test_pred = np.argmax(predictions, axis=1)"
      ]
    },
    {
      "cell_type": "code",
      "execution_count": 27,
      "id": "85f16a33",
      "metadata": {
        "colab": {
          "base_uri": "https://localhost:8080/",
          "height": 472
        },
        "id": "85f16a33",
        "outputId": "db02e867-44d3-465c-ec21-f674b8e90a17"
      },
      "outputs": [
        {
          "output_type": "display_data",
          "data": {
            "text/plain": [
              "<Figure size 640x480 with 1 Axes>"
            ],
            "image/png": "[encoded data removed]"
          },
          "metadata": {}
        }
      ],
      "source": [
        "plt.plot(history.history['accuracy'])\n",
        "plt.plot(history.history['val_accuracy'])\n",
        "plt.title(\"model accuracy\")\n",
        "plt.ylim([0.93, 1.0])\n",
        "plt.ylabel(\"accuracy\")\n",
        "plt.xlabel(\"epoch\")\n",
        "plt.legend(['train','validation'],loc='lower right')\n",
        "plt.show()"
      ]
    },
    {
      "cell_type": "code",
      "execution_count": 28,
      "id": "d9e96d12",
      "metadata": {
        "colab": {
          "base_uri": "https://localhost:8080/",
          "height": 472
        },
        "id": "d9e96d12",
        "outputId": "8345cfb9-2c1a-40e7-b46d-f47f186c5d49"
      },
      "outputs": [
        {
          "output_type": "display_data",
          "data": {
            "text/plain": [
              "<Figure size 640x480 with 1 Axes>"
            ],
            "image/png": "[encoded data removed]"
          },
          "metadata": {}
        }
      ],
      "source": [
        "plt.plot(history.history['loss'])\n",
        "plt.plot(history.history['val_loss'])\n",
        "plt.title(\"model loss\")\n",
        "plt.ylabel(\"loss\")\n",
        "plt.xlabel(\"epoch\")\n",
        "plt.legend(['train','validation'],loc='upper right')\n",
        "plt.show()"
      ]
    },
    {
      "cell_type": "markdown",
      "id": "c38b0dc4",
      "metadata": {
        "id": "c38b0dc4"
      },
      "source": [
        "# Model Evaluation"
      ]
    },
    {
      "cell_type": "code",
      "execution_count": 29,
      "id": "c5633d6c",
      "metadata": {
        "id": "c5633d6c"
      },
      "outputs": [],
      "source": [
        "from sklearn.metrics import accuracy_score\n",
        "from sklearn.metrics import precision_score\n",
        "from sklearn.metrics import recall_score\n",
        "from sklearn.metrics import f1_score"
      ]
    },
    {
      "cell_type": "code",
      "execution_count": 30,
      "id": "0126f525",
      "metadata": {
        "colab": {
          "base_uri": "https://localhost:8080/"
        },
        "id": "0126f525",
        "outputId": "9bb0d2c9-fde5-4794-985d-a374a64a5408"
      },
      "outputs": [
        {
          "output_type": "stream",
          "name": "stdout",
          "text": [
            "Accuracy: 0.997569\n",
            "Precision: 0.995562\n",
            "Recall: 0.997571\n",
            "F1 score: 0.996555\n"
          ]
        }
      ],
      "source": [
        "# accuracy: (tp + tn) / (p + n)\n",
        "accuracy = accuracy_score(y_test, y_test_pred)\n",
        "print('Accuracy: %f' % accuracy)\n",
        "# precision tp / (tp + fp)\n",
        "precision = precision_score(y_test, y_test_pred, average = 'macro')\n",
        "print('Precision: %f' % precision)\n",
        "# recall: tp / (tp + fn)\n",
        "recall = recall_score(y_test, y_test_pred, average = 'macro')\n",
        "print('Recall: %f' % recall)\n",
        "# f1: 2 tp / (2 tp + fp + fn)\n",
        "f1 = f1_score(y_test, y_test_pred, average = 'macro')\n",
        "print('F1 score: %f' % f1)"
      ]
    },
    {
      "cell_type": "markdown",
      "id": "6e3aa2fa",
      "metadata": {
        "id": "6e3aa2fa"
      },
      "source": [
        "# Testing a real-world image"
      ]
    },
    {
      "cell_type": "code",
      "execution_count": 31,
      "id": "cda59191",
      "metadata": {
        "id": "cda59191"
      },
      "outputs": [],
      "source": [
        "image_path = \"/content/Burmese_number_5.jpg\"\n",
        "img_input = tf.io.read_file(image_path)\n",
        "img_input = tf.image.decode_image(img_input)\n",
        "img_input = tf.image.rgb_to_grayscale(img_input)\n",
        "img_input = 255 - img_input\n",
        "img_input = tf.image.resize(img_input, size=(28, 28), method='bilinear')"
      ]
    },
    {
      "cell_type": "code",
      "execution_count": 32,
      "id": "14669cd3",
      "metadata": {
        "colab": {
          "base_uri": "https://localhost:8080/",
          "height": 447
        },
        "id": "14669cd3",
        "outputId": "b1b5bbad-ad89-4633-b31f-88acd63cd120"
      },
      "outputs": [
        {
          "output_type": "execute_result",
          "data": {
            "text/plain": [
              "<matplotlib.image.AxesImage at 0x7ee6dc734af0>"
            ]
          },
          "metadata": {},
          "execution_count": 32
        },
        {
          "output_type": "display_data",
          "data": {
            "text/plain": [
              "<Figure size 640x480 with 1 Axes>"
            ],
            "image/png": "[encoded data removed]"
          },
          "metadata": {}
        }
      ],
      "source": [
        "plt.imshow(img_input, cmap='Greys')"
      ]
    },
    {
      "cell_type": "code",
      "execution_count": 33,
      "id": "41d0eb62",
      "metadata": {
        "id": "41d0eb62"
      },
      "outputs": [],
      "source": [
        "img_input = tf.expand_dims(img_input, axis=0)"
      ]
    },
    {
      "cell_type": "code",
      "execution_count": 34,
      "id": "d0625e0d",
      "metadata": {
        "colab": {
          "base_uri": "https://localhost:8080/"
        },
        "id": "d0625e0d",
        "outputId": "ad925dc9-e2f1-4b8a-ddb5-cfdd36e8a075"
      },
      "outputs": [
        {
          "output_type": "stream",
          "name": "stdout",
          "text": [
            "1/1 [==============================] - 0s 121ms/step\n",
            "5\n"
          ]
        }
      ],
      "source": [
        "y_input_pred = model.predict(img_input)\n",
        "print(np.argmax(y_input_pred))"
      ]
    },
    {
      "cell_type": "markdown",
      "source": [
        "# Save Model"
      ],
      "metadata": {
        "id": "0nZfVySzOOgj"
      },
      "id": "0nZfVySzOOgj"
    },
    {
      "cell_type": "code",
      "execution_count": 35,
      "id": "30f02300",
      "metadata": {
        "colab": {
          "base_uri": "https://localhost:8080/"
        },
        "id": "30f02300",
        "outputId": "a7ceb097-734f-4933-b47e-4c6eeb1b7317"
      },
      "outputs": [
        {
          "output_type": "stream",
          "name": "stderr",
          "text": [
            "WARNING:absl:Found untraced functions such as _jit_compiled_convolution_op, _jit_compiled_convolution_op, _jit_compiled_convolution_op, _update_step_xla while saving (showing 4 of 4). These functions will not be directly callable after loading.\n"
          ]
        }
      ],
      "source": [
        "# save the model using \"SavedModel\" format\n",
        "model.save('/content/model')"
      ]
    },
    {
      "cell_type": "code",
      "source": [
        "# save the model using \"HDF5\" format\n",
        "model.save('/content/model.h5')"
      ],
      "metadata": {
        "id": "gzp3pAC7PilX"
      },
      "id": "gzp3pAC7PilX",
      "execution_count": 36,
      "outputs": []
    },
    {
      "cell_type": "code",
      "source": [
        "loaded_model = tf.keras.models.load_model(\"/content/model\")\n",
        "\n",
        "# Use the loaded model for predictions\n",
        "predictions = loaded_model.predict(img_input)"
      ],
      "metadata": {
        "colab": {
          "base_uri": "https://localhost:8080/"
        },
        "id": "rsojVuC5Oews",
        "outputId": "7062c5f9-9f13-4361-9ec4-198abd638c8b"
      },
      "id": "rsojVuC5Oews",
      "execution_count": 37,
      "outputs": [
        {
          "output_type": "stream",
          "name": "stdout",
          "text": [
            "1/1 [==============================] - 0s 77ms/step\n"
          ]
        }
      ]
    },
    {
      "cell_type": "code",
      "source": [
        "print(np.argmax(predictions))"
      ],
      "metadata": {
        "colab": {
          "base_uri": "https://localhost:8080/"
        },
        "id": "3Fo_dr2BO8aC",
        "outputId": "96b5d1da-7be2-4c26-b770-89801d02a952"
      },
      "id": "3Fo_dr2BO8aC",
      "execution_count": 38,
      "outputs": [
        {
          "output_type": "stream",
          "name": "stdout",
          "text": [
            "5\n"
          ]
        }
      ]
    }
  ],
  "metadata": {
    "kernelspec": {
      "display_name": "Python 3",
      "name": "python3"
    },
    "language_info": {
      "codemirror_mode": {
        "name": "ipython",
        "version": 3
      },
      "file_extension": ".py",
      "mimetype": "text/x-python",
      "name": "python",
      "nbconvert_exporter": "python",
      "pygments_lexer": "ipython3",
      "version": "3.10.9"
    },
    "colab": {
      "provenance": [],
      "gpuType": "T4"
    },
    "accelerator": "GPU"
  },
  "nbformat": 4,
  "nbformat_minor": 5
}